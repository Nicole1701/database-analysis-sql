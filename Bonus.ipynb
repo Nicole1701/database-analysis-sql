{
 "cells": [
  {
   "cell_type": "markdown",
   "metadata": {},
   "source": [
    "## Setup and Import"
   ]
  },
  {
   "cell_type": "code",
   "execution_count": 1,
   "metadata": {},
   "outputs": [],
   "source": [
    "# Install psycopg2 if needed\n",
    "# pip install psycopg2"
   ]
  },
  {
   "cell_type": "code",
   "execution_count": 67,
   "metadata": {},
   "outputs": [],
   "source": [
    "# Import modules\n",
    "import pandas as pd\n",
    "import matplotlib.pyplot as plt\n",
    "from sqlalchemy.ext.automap import automap_base\n",
    "from sqlalchemy.orm import Session\n",
    "from sqlalchemy import create_engine, inspect"
   ]
  },
  {
   "cell_type": "code",
   "execution_count": 3,
   "metadata": {},
   "outputs": [],
   "source": [
    "# Import database link\n",
    "from config import database"
   ]
  },
  {
   "cell_type": "code",
   "execution_count": 4,
   "metadata": {},
   "outputs": [],
   "source": [
    "# Create engine and connect to database\n",
    "# pypi.org/project/psycopg2/\n",
    "engine = create_engine(database)\n",
    "connection = engine.connect()"
   ]
  },
  {
   "cell_type": "markdown",
   "metadata": {},
   "source": [
    "## Inspect Tables"
   ]
  },
  {
   "cell_type": "code",
   "execution_count": 7,
   "metadata": {},
   "outputs": [
    {
     "data": {
      "text/plain": [
       "['departments', 'dept_manager', 'employees', 'salaries', 'dept_emp', 'titles']"
      ]
     },
     "execution_count": 7,
     "metadata": {},
     "output_type": "execute_result"
    }
   ],
   "source": [
    "# Get table names\n",
    "inspector = inspect(engine)\n",
    "inspector.get_table_names()\n"
   ]
  },
  {
   "cell_type": "code",
   "execution_count": 9,
   "metadata": {},
   "outputs": [
    {
     "name": "stdout",
     "output_type": "stream",
     "text": [
      "emp_no INTEGER\n",
      "salary INTEGER\n"
     ]
    }
   ],
   "source": [
    "# Use Inspector to print the column names and types of the salaries table\n",
    "columns = inspector.get_columns('salaries')\n",
    "for c in columns:\n",
    "    print(c['name'], c[\"type\"])"
   ]
  },
  {
   "cell_type": "code",
   "execution_count": 23,
   "metadata": {},
   "outputs": [
    {
     "name": "stdout",
     "output_type": "stream",
     "text": [
      "emp_no INTEGER\n",
      "emp_title_id VARCHAR(30)\n",
      "birth_date DATE\n",
      "first_name VARCHAR(30)\n",
      "last_name VARCHAR(30)\n",
      "sex VARCHAR(1)\n",
      "hire_date DATE\n"
     ]
    }
   ],
   "source": [
    "# Use Inspector to print the column names and types of the employees table\n",
    "columns = inspector.get_columns('employees')\n",
    "for c in columns:\n",
    "    print(c['name'], c[\"type\"])"
   ]
  },
  {
   "cell_type": "code",
   "execution_count": 50,
   "metadata": {},
   "outputs": [
    {
     "name": "stdout",
     "output_type": "stream",
     "text": [
      "title_id VARCHAR(10)\n",
      "title VARCHAR(30)\n"
     ]
    }
   ],
   "source": [
    "# Use Inspector to print the column names and types of the titles table\n",
    "columns = inspector.get_columns('titles')\n",
    "for c in columns:\n",
    "    print(c['name'], c[\"type\"])"
   ]
  },
  {
   "cell_type": "markdown",
   "metadata": {},
   "source": [
    "## Create Data Frames"
   ]
  },
  {
   "cell_type": "code",
   "execution_count": 45,
   "metadata": {},
   "outputs": [
    {
     "data": {
      "text/html": [
       "<div>\n",
       "<style scoped>\n",
       "    .dataframe tbody tr th:only-of-type {\n",
       "        vertical-align: middle;\n",
       "    }\n",
       "\n",
       "    .dataframe tbody tr th {\n",
       "        vertical-align: top;\n",
       "    }\n",
       "\n",
       "    .dataframe thead th {\n",
       "        text-align: right;\n",
       "    }\n",
       "</style>\n",
       "<table border=\"1\" class=\"dataframe\">\n",
       "  <thead>\n",
       "    <tr style=\"text-align: right;\">\n",
       "      <th></th>\n",
       "      <th>Employee Number</th>\n",
       "      <th>Salary</th>\n",
       "    </tr>\n",
       "  </thead>\n",
       "  <tbody>\n",
       "    <tr>\n",
       "      <th>0</th>\n",
       "      <td>10001</td>\n",
       "      <td>60117</td>\n",
       "    </tr>\n",
       "    <tr>\n",
       "      <th>1</th>\n",
       "      <td>10002</td>\n",
       "      <td>65828</td>\n",
       "    </tr>\n",
       "    <tr>\n",
       "      <th>2</th>\n",
       "      <td>10003</td>\n",
       "      <td>40006</td>\n",
       "    </tr>\n",
       "    <tr>\n",
       "      <th>3</th>\n",
       "      <td>10004</td>\n",
       "      <td>40054</td>\n",
       "    </tr>\n",
       "    <tr>\n",
       "      <th>4</th>\n",
       "      <td>10005</td>\n",
       "      <td>78228</td>\n",
       "    </tr>\n",
       "    <tr>\n",
       "      <th>...</th>\n",
       "      <td>...</td>\n",
       "      <td>...</td>\n",
       "    </tr>\n",
       "    <tr>\n",
       "      <th>300019</th>\n",
       "      <td>499995</td>\n",
       "      <td>40000</td>\n",
       "    </tr>\n",
       "    <tr>\n",
       "      <th>300020</th>\n",
       "      <td>499996</td>\n",
       "      <td>58058</td>\n",
       "    </tr>\n",
       "    <tr>\n",
       "      <th>300021</th>\n",
       "      <td>499997</td>\n",
       "      <td>49597</td>\n",
       "    </tr>\n",
       "    <tr>\n",
       "      <th>300022</th>\n",
       "      <td>499998</td>\n",
       "      <td>40000</td>\n",
       "    </tr>\n",
       "    <tr>\n",
       "      <th>300023</th>\n",
       "      <td>499999</td>\n",
       "      <td>63707</td>\n",
       "    </tr>\n",
       "  </tbody>\n",
       "</table>\n",
       "<p>300024 rows × 2 columns</p>\n",
       "</div>"
      ],
      "text/plain": [
       "        Employee Number  Salary\n",
       "0                 10001   60117\n",
       "1                 10002   65828\n",
       "2                 10003   40006\n",
       "3                 10004   40054\n",
       "4                 10005   78228\n",
       "...                 ...     ...\n",
       "300019           499995   40000\n",
       "300020           499996   58058\n",
       "300021           499997   49597\n",
       "300022           499998   40000\n",
       "300023           499999   63707\n",
       "\n",
       "[300024 rows x 2 columns]"
      ]
     },
     "execution_count": 45,
     "metadata": {},
     "output_type": "execute_result"
    }
   ],
   "source": [
    "# Put salaries into a dataframe\n",
    "# https://datatofish.com/sql-to-pandas-dataframe/\n",
    "\n",
    "salary = pd.read_sql(\"SELECT * FROM salaries\", connection)\n",
    "salary_df = pd.DataFrame(salary, columns=['emp_no','salary'])\n",
    "salaries_final = salary_df.rename(columns={\"emp_no\": \"Employee Number\", \"salary\": \"Salary\"})\n",
    "salaries_final"
   ]
  },
  {
   "cell_type": "code",
   "execution_count": 49,
   "metadata": {},
   "outputs": [
    {
     "data": {
      "text/html": [
       "<div>\n",
       "<style scoped>\n",
       "    .dataframe tbody tr th:only-of-type {\n",
       "        vertical-align: middle;\n",
       "    }\n",
       "\n",
       "    .dataframe tbody tr th {\n",
       "        vertical-align: top;\n",
       "    }\n",
       "\n",
       "    .dataframe thead th {\n",
       "        text-align: right;\n",
       "    }\n",
       "</style>\n",
       "<table border=\"1\" class=\"dataframe\">\n",
       "  <thead>\n",
       "    <tr style=\"text-align: right;\">\n",
       "      <th></th>\n",
       "      <th>Employee Number</th>\n",
       "      <th>Title ID</th>\n",
       "    </tr>\n",
       "  </thead>\n",
       "  <tbody>\n",
       "    <tr>\n",
       "      <th>0</th>\n",
       "      <td>473302</td>\n",
       "      <td>s0001</td>\n",
       "    </tr>\n",
       "    <tr>\n",
       "      <th>1</th>\n",
       "      <td>475053</td>\n",
       "      <td>e0002</td>\n",
       "    </tr>\n",
       "    <tr>\n",
       "      <th>2</th>\n",
       "      <td>57444</td>\n",
       "      <td>e0002</td>\n",
       "    </tr>\n",
       "    <tr>\n",
       "      <th>3</th>\n",
       "      <td>421786</td>\n",
       "      <td>s0001</td>\n",
       "    </tr>\n",
       "    <tr>\n",
       "      <th>4</th>\n",
       "      <td>282238</td>\n",
       "      <td>e0003</td>\n",
       "    </tr>\n",
       "    <tr>\n",
       "      <th>...</th>\n",
       "      <td>...</td>\n",
       "      <td>...</td>\n",
       "    </tr>\n",
       "    <tr>\n",
       "      <th>300019</th>\n",
       "      <td>464231</td>\n",
       "      <td>s0001</td>\n",
       "    </tr>\n",
       "    <tr>\n",
       "      <th>300020</th>\n",
       "      <td>255832</td>\n",
       "      <td>e0002</td>\n",
       "    </tr>\n",
       "    <tr>\n",
       "      <th>300021</th>\n",
       "      <td>76671</td>\n",
       "      <td>s0001</td>\n",
       "    </tr>\n",
       "    <tr>\n",
       "      <th>300022</th>\n",
       "      <td>264920</td>\n",
       "      <td>s0001</td>\n",
       "    </tr>\n",
       "    <tr>\n",
       "      <th>300023</th>\n",
       "      <td>464503</td>\n",
       "      <td>s0002</td>\n",
       "    </tr>\n",
       "  </tbody>\n",
       "</table>\n",
       "<p>300024 rows × 2 columns</p>\n",
       "</div>"
      ],
      "text/plain": [
       "        Employee Number Title ID\n",
       "0                473302    s0001\n",
       "1                475053    e0002\n",
       "2                 57444    e0002\n",
       "3                421786    s0001\n",
       "4                282238    e0003\n",
       "...                 ...      ...\n",
       "300019           464231    s0001\n",
       "300020           255832    e0002\n",
       "300021            76671    s0001\n",
       "300022           264920    s0001\n",
       "300023           464503    s0002\n",
       "\n",
       "[300024 rows x 2 columns]"
      ]
     },
     "execution_count": 49,
     "metadata": {},
     "output_type": "execute_result"
    }
   ],
   "source": [
    "# Put employees into a dataframe\n",
    "# https://datatofish.com/sql-to-pandas-dataframe/\n",
    "\n",
    "employee = pd.read_sql(\"SELECT * FROM employees\", connection)\n",
    "employee_df = pd.DataFrame(employee, columns=['emp_no','emp_title_id'])\n",
    "employee_final = employee_df.rename(columns={\"emp_no\": \"Employee Number\", \"emp_title_id\": \"Title ID\"})\n",
    "employee_final"
   ]
  },
  {
   "cell_type": "code",
   "execution_count": 54,
   "metadata": {},
   "outputs": [
    {
     "data": {
      "text/html": [
       "<div>\n",
       "<style scoped>\n",
       "    .dataframe tbody tr th:only-of-type {\n",
       "        vertical-align: middle;\n",
       "    }\n",
       "\n",
       "    .dataframe tbody tr th {\n",
       "        vertical-align: top;\n",
       "    }\n",
       "\n",
       "    .dataframe thead th {\n",
       "        text-align: right;\n",
       "    }\n",
       "</style>\n",
       "<table border=\"1\" class=\"dataframe\">\n",
       "  <thead>\n",
       "    <tr style=\"text-align: right;\">\n",
       "      <th></th>\n",
       "      <th>Title ID</th>\n",
       "      <th>Title</th>\n",
       "    </tr>\n",
       "  </thead>\n",
       "  <tbody>\n",
       "    <tr>\n",
       "      <th>0</th>\n",
       "      <td>s0001</td>\n",
       "      <td>Staff</td>\n",
       "    </tr>\n",
       "    <tr>\n",
       "      <th>1</th>\n",
       "      <td>s0002</td>\n",
       "      <td>Senior Staff</td>\n",
       "    </tr>\n",
       "    <tr>\n",
       "      <th>2</th>\n",
       "      <td>e0001</td>\n",
       "      <td>Assistant Engineer</td>\n",
       "    </tr>\n",
       "    <tr>\n",
       "      <th>3</th>\n",
       "      <td>e0002</td>\n",
       "      <td>Engineer</td>\n",
       "    </tr>\n",
       "    <tr>\n",
       "      <th>4</th>\n",
       "      <td>e0003</td>\n",
       "      <td>Senior Engineer</td>\n",
       "    </tr>\n",
       "    <tr>\n",
       "      <th>5</th>\n",
       "      <td>e0004</td>\n",
       "      <td>Technique Leader</td>\n",
       "    </tr>\n",
       "    <tr>\n",
       "      <th>6</th>\n",
       "      <td>m0001</td>\n",
       "      <td>Manager</td>\n",
       "    </tr>\n",
       "  </tbody>\n",
       "</table>\n",
       "</div>"
      ],
      "text/plain": [
       "  Title ID               Title\n",
       "0    s0001               Staff\n",
       "1    s0002        Senior Staff\n",
       "2    e0001  Assistant Engineer\n",
       "3    e0002            Engineer\n",
       "4    e0003     Senior Engineer\n",
       "5    e0004    Technique Leader\n",
       "6    m0001             Manager"
      ]
     },
     "execution_count": 54,
     "metadata": {},
     "output_type": "execute_result"
    }
   ],
   "source": [
    "# Put titles into a dataframe\n",
    "# https://datatofish.com/sql-to-pandas-dataframe/\n",
    "\n",
    "title = pd.read_sql(\"SELECT * FROM titles\", connection)\n",
    "title_df = pd.DataFrame(title, columns=['title_id','title'])\n",
    "title_final = title_df.rename(columns={\"title_id\": \"Title ID\", \"title\": \"Title\"})\n",
    "title_final"
   ]
  },
  {
   "cell_type": "markdown",
   "metadata": {},
   "source": [
    "## Merge Data Frames"
   ]
  },
  {
   "cell_type": "code",
   "execution_count": 57,
   "metadata": {},
   "outputs": [
    {
     "data": {
      "text/html": [
       "<div>\n",
       "<style scoped>\n",
       "    .dataframe tbody tr th:only-of-type {\n",
       "        vertical-align: middle;\n",
       "    }\n",
       "\n",
       "    .dataframe tbody tr th {\n",
       "        vertical-align: top;\n",
       "    }\n",
       "\n",
       "    .dataframe thead th {\n",
       "        text-align: right;\n",
       "    }\n",
       "</style>\n",
       "<table border=\"1\" class=\"dataframe\">\n",
       "  <thead>\n",
       "    <tr style=\"text-align: right;\">\n",
       "      <th></th>\n",
       "      <th>Employee Number</th>\n",
       "      <th>Title ID</th>\n",
       "      <th>Salary</th>\n",
       "    </tr>\n",
       "  </thead>\n",
       "  <tbody>\n",
       "    <tr>\n",
       "      <th>0</th>\n",
       "      <td>473302</td>\n",
       "      <td>s0001</td>\n",
       "      <td>40000</td>\n",
       "    </tr>\n",
       "    <tr>\n",
       "      <th>1</th>\n",
       "      <td>475053</td>\n",
       "      <td>e0002</td>\n",
       "      <td>53422</td>\n",
       "    </tr>\n",
       "    <tr>\n",
       "      <th>2</th>\n",
       "      <td>57444</td>\n",
       "      <td>e0002</td>\n",
       "      <td>48973</td>\n",
       "    </tr>\n",
       "    <tr>\n",
       "      <th>3</th>\n",
       "      <td>421786</td>\n",
       "      <td>s0001</td>\n",
       "      <td>40000</td>\n",
       "    </tr>\n",
       "    <tr>\n",
       "      <th>4</th>\n",
       "      <td>282238</td>\n",
       "      <td>e0003</td>\n",
       "      <td>40000</td>\n",
       "    </tr>\n",
       "    <tr>\n",
       "      <th>...</th>\n",
       "      <td>...</td>\n",
       "      <td>...</td>\n",
       "      <td>...</td>\n",
       "    </tr>\n",
       "    <tr>\n",
       "      <th>300019</th>\n",
       "      <td>464231</td>\n",
       "      <td>s0001</td>\n",
       "      <td>69696</td>\n",
       "    </tr>\n",
       "    <tr>\n",
       "      <th>300020</th>\n",
       "      <td>255832</td>\n",
       "      <td>e0002</td>\n",
       "      <td>75355</td>\n",
       "    </tr>\n",
       "    <tr>\n",
       "      <th>300021</th>\n",
       "      <td>76671</td>\n",
       "      <td>s0001</td>\n",
       "      <td>61886</td>\n",
       "    </tr>\n",
       "    <tr>\n",
       "      <th>300022</th>\n",
       "      <td>264920</td>\n",
       "      <td>s0001</td>\n",
       "      <td>62772</td>\n",
       "    </tr>\n",
       "    <tr>\n",
       "      <th>300023</th>\n",
       "      <td>464503</td>\n",
       "      <td>s0002</td>\n",
       "      <td>41708</td>\n",
       "    </tr>\n",
       "  </tbody>\n",
       "</table>\n",
       "<p>300024 rows × 3 columns</p>\n",
       "</div>"
      ],
      "text/plain": [
       "        Employee Number Title ID  Salary\n",
       "0                473302    s0001   40000\n",
       "1                475053    e0002   53422\n",
       "2                 57444    e0002   48973\n",
       "3                421786    s0001   40000\n",
       "4                282238    e0003   40000\n",
       "...                 ...      ...     ...\n",
       "300019           464231    s0001   69696\n",
       "300020           255832    e0002   75355\n",
       "300021            76671    s0001   61886\n",
       "300022           264920    s0001   62772\n",
       "300023           464503    s0002   41708\n",
       "\n",
       "[300024 rows x 3 columns]"
      ]
     },
     "execution_count": 57,
     "metadata": {},
     "output_type": "execute_result"
    }
   ],
   "source": [
    "# Merge the employee and salaries tables together\n",
    "emp_sal = pd.merge(employee_final, salaries_final, on=\"Employee Number\", how=\"inner\")\n",
    "emp_sal"
   ]
  },
  {
   "cell_type": "code",
   "execution_count": 59,
   "metadata": {},
   "outputs": [
    {
     "data": {
      "text/html": [
       "<div>\n",
       "<style scoped>\n",
       "    .dataframe tbody tr th:only-of-type {\n",
       "        vertical-align: middle;\n",
       "    }\n",
       "\n",
       "    .dataframe tbody tr th {\n",
       "        vertical-align: top;\n",
       "    }\n",
       "\n",
       "    .dataframe thead th {\n",
       "        text-align: right;\n",
       "    }\n",
       "</style>\n",
       "<table border=\"1\" class=\"dataframe\">\n",
       "  <thead>\n",
       "    <tr style=\"text-align: right;\">\n",
       "      <th></th>\n",
       "      <th>Employee Number</th>\n",
       "      <th>Title ID</th>\n",
       "      <th>Salary</th>\n",
       "      <th>Title</th>\n",
       "    </tr>\n",
       "  </thead>\n",
       "  <tbody>\n",
       "    <tr>\n",
       "      <th>0</th>\n",
       "      <td>473302</td>\n",
       "      <td>s0001</td>\n",
       "      <td>40000</td>\n",
       "      <td>Staff</td>\n",
       "    </tr>\n",
       "    <tr>\n",
       "      <th>1</th>\n",
       "      <td>421786</td>\n",
       "      <td>s0001</td>\n",
       "      <td>40000</td>\n",
       "      <td>Staff</td>\n",
       "    </tr>\n",
       "    <tr>\n",
       "      <th>2</th>\n",
       "      <td>273487</td>\n",
       "      <td>s0001</td>\n",
       "      <td>56087</td>\n",
       "      <td>Staff</td>\n",
       "    </tr>\n",
       "    <tr>\n",
       "      <th>3</th>\n",
       "      <td>246449</td>\n",
       "      <td>s0001</td>\n",
       "      <td>87084</td>\n",
       "      <td>Staff</td>\n",
       "    </tr>\n",
       "    <tr>\n",
       "      <th>4</th>\n",
       "      <td>48085</td>\n",
       "      <td>s0001</td>\n",
       "      <td>63016</td>\n",
       "      <td>Staff</td>\n",
       "    </tr>\n",
       "    <tr>\n",
       "      <th>...</th>\n",
       "      <td>...</td>\n",
       "      <td>...</td>\n",
       "      <td>...</td>\n",
       "      <td>...</td>\n",
       "    </tr>\n",
       "    <tr>\n",
       "      <th>300019</th>\n",
       "      <td>111400</td>\n",
       "      <td>m0001</td>\n",
       "      <td>72446</td>\n",
       "      <td>Manager</td>\n",
       "    </tr>\n",
       "    <tr>\n",
       "      <th>300020</th>\n",
       "      <td>111133</td>\n",
       "      <td>m0001</td>\n",
       "      <td>71148</td>\n",
       "      <td>Manager</td>\n",
       "    </tr>\n",
       "    <tr>\n",
       "      <th>300021</th>\n",
       "      <td>110085</td>\n",
       "      <td>m0001</td>\n",
       "      <td>60026</td>\n",
       "      <td>Manager</td>\n",
       "    </tr>\n",
       "    <tr>\n",
       "      <th>300022</th>\n",
       "      <td>110386</td>\n",
       "      <td>m0001</td>\n",
       "      <td>40000</td>\n",
       "      <td>Manager</td>\n",
       "    </tr>\n",
       "    <tr>\n",
       "      <th>300023</th>\n",
       "      <td>111784</td>\n",
       "      <td>m0001</td>\n",
       "      <td>40000</td>\n",
       "      <td>Manager</td>\n",
       "    </tr>\n",
       "  </tbody>\n",
       "</table>\n",
       "<p>300024 rows × 4 columns</p>\n",
       "</div>"
      ],
      "text/plain": [
       "        Employee Number Title ID  Salary    Title\n",
       "0                473302    s0001   40000    Staff\n",
       "1                421786    s0001   40000    Staff\n",
       "2                273487    s0001   56087    Staff\n",
       "3                246449    s0001   87084    Staff\n",
       "4                 48085    s0001   63016    Staff\n",
       "...                 ...      ...     ...      ...\n",
       "300019           111400    m0001   72446  Manager\n",
       "300020           111133    m0001   71148  Manager\n",
       "300021           110085    m0001   60026  Manager\n",
       "300022           110386    m0001   40000  Manager\n",
       "300023           111784    m0001   40000  Manager\n",
       "\n",
       "[300024 rows x 4 columns]"
      ]
     },
     "execution_count": 59,
     "metadata": {},
     "output_type": "execute_result"
    }
   ],
   "source": [
    "# Merge with the titles table\n",
    "emp_sal_titles = pd.merge(emp_sal, title_final, on=\"Title ID\", how=\"inner\")\n",
    "emp_sal_titles"
   ]
  },
  {
   "cell_type": "markdown",
   "metadata": {},
   "source": [
    "## Analyze Data"
   ]
  },
  {
   "cell_type": "code",
   "execution_count": 63,
   "metadata": {},
   "outputs": [
    {
     "data": {
      "text/html": [
       "<div>\n",
       "<style scoped>\n",
       "    .dataframe tbody tr th:only-of-type {\n",
       "        vertical-align: middle;\n",
       "    }\n",
       "\n",
       "    .dataframe tbody tr th {\n",
       "        vertical-align: top;\n",
       "    }\n",
       "\n",
       "    .dataframe thead th {\n",
       "        text-align: right;\n",
       "    }\n",
       "</style>\n",
       "<table border=\"1\" class=\"dataframe\">\n",
       "  <thead>\n",
       "    <tr style=\"text-align: right;\">\n",
       "      <th></th>\n",
       "      <th>Title</th>\n",
       "      <th>Salary</th>\n",
       "    </tr>\n",
       "  </thead>\n",
       "  <tbody>\n",
       "    <tr>\n",
       "      <th>0</th>\n",
       "      <td>Staff</td>\n",
       "      <td>40000</td>\n",
       "    </tr>\n",
       "    <tr>\n",
       "      <th>1</th>\n",
       "      <td>Staff</td>\n",
       "      <td>40000</td>\n",
       "    </tr>\n",
       "    <tr>\n",
       "      <th>2</th>\n",
       "      <td>Staff</td>\n",
       "      <td>56087</td>\n",
       "    </tr>\n",
       "    <tr>\n",
       "      <th>3</th>\n",
       "      <td>Staff</td>\n",
       "      <td>87084</td>\n",
       "    </tr>\n",
       "    <tr>\n",
       "      <th>4</th>\n",
       "      <td>Staff</td>\n",
       "      <td>63016</td>\n",
       "    </tr>\n",
       "    <tr>\n",
       "      <th>...</th>\n",
       "      <td>...</td>\n",
       "      <td>...</td>\n",
       "    </tr>\n",
       "    <tr>\n",
       "      <th>300019</th>\n",
       "      <td>Manager</td>\n",
       "      <td>72446</td>\n",
       "    </tr>\n",
       "    <tr>\n",
       "      <th>300020</th>\n",
       "      <td>Manager</td>\n",
       "      <td>71148</td>\n",
       "    </tr>\n",
       "    <tr>\n",
       "      <th>300021</th>\n",
       "      <td>Manager</td>\n",
       "      <td>60026</td>\n",
       "    </tr>\n",
       "    <tr>\n",
       "      <th>300022</th>\n",
       "      <td>Manager</td>\n",
       "      <td>40000</td>\n",
       "    </tr>\n",
       "    <tr>\n",
       "      <th>300023</th>\n",
       "      <td>Manager</td>\n",
       "      <td>40000</td>\n",
       "    </tr>\n",
       "  </tbody>\n",
       "</table>\n",
       "<p>300024 rows × 2 columns</p>\n",
       "</div>"
      ],
      "text/plain": [
       "          Title  Salary\n",
       "0         Staff   40000\n",
       "1         Staff   40000\n",
       "2         Staff   56087\n",
       "3         Staff   87084\n",
       "4         Staff   63016\n",
       "...         ...     ...\n",
       "300019  Manager   72446\n",
       "300020  Manager   71148\n",
       "300021  Manager   60026\n",
       "300022  Manager   40000\n",
       "300023  Manager   40000\n",
       "\n",
       "[300024 rows x 2 columns]"
      ]
     },
     "execution_count": 63,
     "metadata": {},
     "output_type": "execute_result"
    }
   ],
   "source": [
    "dataframe_final =  emp_sal_titles[['Title', 'Salary']]\n",
    "dataframe_final"
   ]
  },
  {
   "cell_type": "markdown",
   "metadata": {},
   "source": [
    "### Salary Ranges"
   ]
  },
  {
   "cell_type": "code",
   "execution_count": 84,
   "metadata": {},
   "outputs": [
    {
     "data": {
      "image/png": "[encoded data removed]",
      "text/plain": [
       "<Figure size 864x576 with 1 Axes>"
      ]
     },
     "metadata": {
      "needs_background": "light"
     },
     "output_type": "display_data"
    }
   ],
   "source": [
    "dataframe_final.hist(column='Salary', figsize=(12,8), color='blue', rwidth=0.9)\n",
    "\n",
    "# Format Chart\n",
    "plt.title(\"Range of Employee Salaries\", fontsize = 20)\n",
    "plt.xlabel(\"Salary Range ($)\", fontsize = 14)\n",
    "plt.ylabel(\"Number of Employees\", fontsize = 14)\n",
    "\n",
    "# Save image\n",
    "plt.savefig(\"images/Range_of_Employee_Salaries.png\")\n",
    "\n",
    "plt.show()"
   ]
  },
  {
   "cell_type": "markdown",
   "metadata": {},
   "source": [
    "### Average Salary by Title"
   ]
  },
  {
   "cell_type": "code",
   "execution_count": 94,
   "metadata": {},
   "outputs": [
    {
     "data": {
      "text/html": [
       "<div>\n",
       "<style scoped>\n",
       "    .dataframe tbody tr th:only-of-type {\n",
       "        vertical-align: middle;\n",
       "    }\n",
       "\n",
       "    .dataframe tbody tr th {\n",
       "        vertical-align: top;\n",
       "    }\n",
       "\n",
       "    .dataframe thead th {\n",
       "        text-align: right;\n",
       "    }\n",
       "</style>\n",
       "<table border=\"1\" class=\"dataframe\">\n",
       "  <thead>\n",
       "    <tr style=\"text-align: right;\">\n",
       "      <th></th>\n",
       "      <th>Salary</th>\n",
       "    </tr>\n",
       "    <tr>\n",
       "      <th>Title</th>\n",
       "      <th></th>\n",
       "    </tr>\n",
       "  </thead>\n",
       "  <tbody>\n",
       "    <tr>\n",
       "      <th>Senior Staff</th>\n",
       "      <td>58550.17</td>\n",
       "    </tr>\n",
       "    <tr>\n",
       "      <th>Staff</th>\n",
       "      <td>58465.38</td>\n",
       "    </tr>\n",
       "    <tr>\n",
       "      <th>Manager</th>\n",
       "      <td>51531.04</td>\n",
       "    </tr>\n",
       "    <tr>\n",
       "      <th>Technique Leader</th>\n",
       "      <td>48582.90</td>\n",
       "    </tr>\n",
       "    <tr>\n",
       "      <th>Assistant Engineer</th>\n",
       "      <td>48564.43</td>\n",
       "    </tr>\n",
       "    <tr>\n",
       "      <th>Engineer</th>\n",
       "      <td>48535.34</td>\n",
       "    </tr>\n",
       "    <tr>\n",
       "      <th>Senior Engineer</th>\n",
       "      <td>48506.80</td>\n",
       "    </tr>\n",
       "  </tbody>\n",
       "</table>\n",
       "</div>"
      ],
      "text/plain": [
       "                      Salary\n",
       "Title                       \n",
       "Senior Staff        58550.17\n",
       "Staff               58465.38\n",
       "Manager             51531.04\n",
       "Technique Leader    48582.90\n",
       "Assistant Engineer  48564.43\n",
       "Engineer            48535.34\n",
       "Senior Engineer     48506.80"
      ]
     },
     "execution_count": 94,
     "metadata": {},
     "output_type": "execute_result"
    }
   ],
   "source": [
    "data_groupby = dataframe_final.groupby([\"Title\"]).mean()[\"Salary\"].round(2)\n",
    "data_groupby_pd = pd.DataFrame(data_groupby).sort_values(\"Salary\", ascending=False)\n",
    "data_groupby_pd"
   ]
  },
  {
   "cell_type": "code",
   "execution_count": 99,
   "metadata": {},
   "outputs": [
    {
     "data": {
      "image/png": "[encoded data removed]",
      "text/plain": [
       "<Figure size 864x504 with 1 Axes>"
      ]
     },
     "metadata": {
      "needs_background": "light"
     },
     "output_type": "display_data"
    }
   ],
   "source": [
    "data_groupby_pd.plot(kind=\"bar\", figsize=(12,7), rot=0, legend=False, fontsize = 10)\n",
    "\n",
    "\n",
    "# Format chart\n",
    "plt.title(\"Average Salary by Job Title\", fontsize=14)\n",
    "plt.xlabel(\"Job Tot;e\", fontsize=12)\n",
    "plt.ylabel(\"Salary ($)\", fontsize=12)\n",
    "\n",
    "\n",
    "# Save image\n",
    "plt.savefig(\"images/Salary_by_Title.png\")\n",
    "\n",
    "plt.show()"
   ]
  },
  {
   "cell_type": "markdown",
   "metadata": {},
   "source": [
    "### Epilogue"
   ]
  },
  {
   "cell_type": "code",
   "execution_count": 110,
   "metadata": {},
   "outputs": [
    {
     "data": {
      "text/html": [
       "<div>\n",
       "<style scoped>\n",
       "    .dataframe tbody tr th:only-of-type {\n",
       "        vertical-align: middle;\n",
       "    }\n",
       "\n",
       "    .dataframe tbody tr th {\n",
       "        vertical-align: top;\n",
       "    }\n",
       "\n",
       "    .dataframe thead th {\n",
       "        text-align: right;\n",
       "    }\n",
       "</style>\n",
       "<table border=\"1\" class=\"dataframe\">\n",
       "  <thead>\n",
       "    <tr style=\"text-align: right;\">\n",
       "      <th></th>\n",
       "      <th>Employee Number</th>\n",
       "      <th>Title ID</th>\n",
       "      <th>Birth Date</th>\n",
       "      <th>First Name</th>\n",
       "      <th>Last Name</th>\n",
       "      <th>Sex</th>\n",
       "      <th>Hire Date</th>\n",
       "    </tr>\n",
       "  </thead>\n",
       "  <tbody>\n",
       "    <tr>\n",
       "      <th>168736</th>\n",
       "      <td>499942</td>\n",
       "      <td>e0004</td>\n",
       "      <td>1963-01-10</td>\n",
       "      <td>April</td>\n",
       "      <td>Foolsday</td>\n",
       "      <td>F</td>\n",
       "      <td>1997-02-10</td>\n",
       "    </tr>\n",
       "  </tbody>\n",
       "</table>\n",
       "</div>"
      ],
      "text/plain": [
       "        Employee Number Title ID  Birth Date First Name Last Name Sex  \\\n",
       "168736           499942    e0004  1963-01-10      April  Foolsday   F   \n",
       "\n",
       "         Hire Date  \n",
       "168736  1997-02-10  "
      ]
     },
     "execution_count": 110,
     "metadata": {},
     "output_type": "execute_result"
    }
   ],
   "source": [
    "# Look up employee ID \n",
    "employee = pd.read_sql(\"SELECT * FROM employees\", connection)\n",
    "my_id_df = pd.DataFrame(employee)\n",
    "my_id_final = my_id_df.rename(columns={\"emp_no\": \"Employee Number\", \"emp_title_id\": \"Title ID\", \"birth_date\": \"Birth Date\",\n",
    "                                      \"first_name\": \"First Name\", \"last_name\": \"Last Name\", \"sex\": \"Sex\", \"hire_date\": \"Hire Date\"})\n",
    "\n",
    "my_id_final.loc[my_id_final['Employee Number'] == 499942]"
   ]
  },
  {
   "cell_type": "code",
   "execution_count": null,
   "metadata": {},
   "outputs": [],
   "source": []
  }
 ],
 "metadata": {
  "kernelspec": {
   "display_name": "Python 3",
   "language": "python",
   "name": "python3"
  },
  "language_info": {
   "codemirror_mode": {
    "name": "ipython",
    "version": 3
   },
   "file_extension": ".py",
   "mimetype": "text/x-python",
   "name": "python",
   "nbconvert_exporter": "python",
   "pygments_lexer": "ipython3",
   "version": "3.6.10"
  }
 },
 "nbformat": 4,
 "nbformat_minor": 4
}
